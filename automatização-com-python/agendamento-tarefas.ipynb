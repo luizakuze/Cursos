{
 "cells": [
  {
   "cell_type": "markdown",
   "metadata": {},
   "source": [
    "# Agendamento de Tarefas \n",
    "- Utilizando a biblioteca `Schedule`"
   ]
  },
  {
   "cell_type": "code",
   "execution_count": 2,
   "metadata": {},
   "outputs": [
    {
     "name": "stdout",
     "output_type": "stream",
     "text": [
      "Executando uma tarefa...\n",
      "Finalizado!\n"
     ]
    },
    {
     "ename": "KeyboardInterrupt",
     "evalue": "",
     "output_type": "error",
     "traceback": [
      "\u001b[1;31m---------------------------------------------------------------------------\u001b[0m",
      "\u001b[1;31mKeyboardInterrupt\u001b[0m                         Traceback (most recent call last)",
      "Cell \u001b[1;32mIn[2], line 14\u001b[0m\n\u001b[0;32m     12\u001b[0m \u001b[38;5;28;01mwhile\u001b[39;00m \u001b[38;5;28;01mTrue\u001b[39;00m:\n\u001b[0;32m     13\u001b[0m     schedule\u001b[38;5;241m.\u001b[39mrun_pending() \u001b[38;5;66;03m# verifica agendamentos do schedule\u001b[39;00m\n\u001b[1;32m---> 14\u001b[0m     \u001b[43mtime\u001b[49m\u001b[38;5;241;43m.\u001b[39;49m\u001b[43msleep\u001b[49m\u001b[43m(\u001b[49m\u001b[38;5;241;43m1\u001b[39;49m\u001b[43m)\u001b[49m \u001b[38;5;66;03m# dorme por 1 segundo\u001b[39;00m\n\u001b[0;32m     16\u001b[0m \u001b[38;5;66;03m# 3)\u001b[39;00m\n",
      "\u001b[1;31mKeyboardInterrupt\u001b[0m: "
     ]
    }
   ],
   "source": [
    "import schedule \n",
    "import time as tm # recomendação\n",
    "from datetime import time\n",
    "from schedule import repeat, every # para colocar repetição sem o loop\n",
    "\n",
    "\n",
    "# 1) definir uma função para fazer uma tarefa\n",
    "@repeat(every().second)\n",
    "def tarefa():\n",
    "    print('Executando uma tarefa...')\n",
    "    print('Finalizado!')\n",
    "\n",
    "\n",
    "# 2) frequência que a tarefa vai acontecer (SEM @repeat)\n",
    "## pode passar no formato texto\n",
    "    \n",
    "#schedule.every().second.do(tarefa)\n",
    "# schedule.every(5).seconds.do(tarefa) # a cada 5 segundos\n",
    "# schedule.every(2).weeks.do(tarefa) # a cada 2 semanas\n",
    "# schedule.every().day.at('09:00').do(trarefa) # colocando um horário \n",
    "# schedule.every().wednesday.at('09:00').do(trarefa) # toda quarta-feira \n",
    "# schedule.every().hour.at(':05').do(tarefa) # todas as horas com minuto 05 no relógio\n",
    "# schedule.every().second.until('14:20').do(tarefa) # roda até o horário definido\n",
    "# schedule.every().day.at('09:00').do(trarefa) # colocando um horário \n",
    "\n",
    "\n",
    "## pode passar no formato datetime (SEM @repeat)\n",
    "# schedule.every().day.at(time(09,22)).do(tarefa) # colocando um horário \n",
    "\n",
    "\n",
    "# 2) loop repetição tarefa (SEM @repeat)\n",
    "# while True:\n",
    "#     schedule.run_pending() # verifica agendamentos do schedule\n",
    "#     time.sleep(1) # dorme por 1 segundo\n",
    "\n",
    "\n"
   ]
  }
 ],
 "metadata": {
  "kernelspec": {
   "display_name": "Python 3",
   "language": "python",
   "name": "python3"
  },
  "language_info": {
   "codemirror_mode": {
    "name": "ipython",
    "version": 3
   },
   "file_extension": ".py",
   "mimetype": "text/x-python",
   "name": "python",
   "nbconvert_exporter": "python",
   "pygments_lexer": "ipython3",
   "version": "3.10.11"
  }
 },
 "nbformat": 4,
 "nbformat_minor": 2
}
