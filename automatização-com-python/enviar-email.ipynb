{
 "cells": [
  {
   "cell_type": "markdown",
   "metadata": {},
   "source": [
    "# Enviar e-mail pelo Gmail\n",
    "- Padrão SMTP"
   ]
  },
  {
   "cell_type": "code",
   "execution_count": 3,
   "metadata": {},
   "outputs": [],
   "source": [
    "import smtplib\n",
    "import email.message\n",
    "\n",
    "def enviar_email():\n",
    "\n",
    "    # podemos utilizar html junto\n",
    "    corpo_email= '''\n",
    "    <p>Parágrafo1</p>\n",
    "    Olá, email automático!\n",
    "    <p>Parágrafo2</p>\n",
    "    '''\n",
    "\n",
    "    msg = email.message.Message()\n",
    "    msg['Subject'] = 'Assunto'\n",
    "    msg['From'] = ''\n",
    "    msg['To'] = ''\n",
    "\n",
    "    # nunca a senha padrão, tem que gerar uma a partir do google:\n",
    "    # segunraça > verificação em 2 etapas > senha de aplicativo\n",
    "    # é uma senha de uso único, basta apagar assim que enviar o email\n",
    "    password = ''\n",
    "\n",
    "    msg.add_header('Content-Type', '')\n",
    "    msg.set_payload(corpo_email )\n",
    "    s = smtplib.SMTP('smtp.gmail.com: 587')\n",
    "    s.starttls()\n",
    "\n",
    "    # Credenciais e envio definitivo\n",
    "    s.login(msg['From'], password)\n",
    "    s.sendmail(msg['From'], [msg['To']], msg.as_string().encode('utf-8'))\n",
    "    print('Email enviado') "
   ]
  },
  {
   "cell_type": "code",
   "execution_count": 4,
   "metadata": {},
   "outputs": [
    {
     "name": "stdout",
     "output_type": "stream",
     "text": [
      "Email enviado\n"
     ]
    }
   ],
   "source": [
    "enviar_email()"
   ]
  }
 ],
 "metadata": {
  "kernelspec": {
   "display_name": "Python 3",
   "language": "python",
   "name": "python3"
  },
  "language_info": {
   "codemirror_mode": {
    "name": "ipython",
    "version": 3
   },
   "file_extension": ".py",
   "mimetype": "text/x-python",
   "name": "python",
   "nbconvert_exporter": "python",
   "pygments_lexer": "ipython3",
   "version": "3.10.11"
  }
 },
 "nbformat": 4,
 "nbformat_minor": 2
}
