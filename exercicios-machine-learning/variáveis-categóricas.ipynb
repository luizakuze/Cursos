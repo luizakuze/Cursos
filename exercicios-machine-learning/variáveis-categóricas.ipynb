{
 "cells": [
  {
   "cell_type": "markdown",
   "metadata": {},
   "source": [
    "# Variáveis categóricas\n",
    "\n",
    "- Objetivo de organizar os dados a serrem analisados pelo modelo.\n",
    "- Torna possível para o modelo avaliar os dados.\n",
    "- Explicação com vídeo do youtube: `https://www.youtube.com/watch?v=TwVBewyylfk`"
   ]
  },
  {
   "cell_type": "markdown",
   "metadata": {},
   "source": [
    "## Três abordagens:\n",
    "\n",
    "### 1) Remover a coluna com variáveis categóricas\n",
    "\n",
    "Útil somente se essa coluna não conter informações úteis.\n",
    "\n",
    "### 2) Codificação ordinal (Ordinal Encoding)\n",
    "- Assume um valor inteiro para cada tipo de variável categórica.\n",
    "- Ordenamos os inteiros de acordo com a intensidade da variável.\n",
    "- _Exemplo:_ <br> \"Nunca\" (0) < \"Raramente\" (1) < \"Sempre\" (2)\n",
    "\n",
    "### 3) Codificação One-Hot (One-Hot Encoding)\n",
    "- Cria uma coluna diferente para cada tipo único de variável categória\n",
    "- Usado quando não é possível ordenar de acordo com uma intensidade ou relação direta. \n",
    "- _Exemplo:_ <br> Temos um dataframe com a seguinte coluna: \"Cores\" e com as variáveis: \"Verde\", \"Amarelo\" e \"Vermelho\". <br> Criamos 3 novas colunas no dataframe chamadas \"Verde\", \"Amarelo\" e \"Vermelho\". <br> Os dados nelas são do tipo inteiro. <br> Caso na colunas \"Cores\" esteja aparecendo \"vermelho\", colocamos o número 1 na nova coluna \"Vermelho\" e 0 nas colunas \"Verde\" e \"Amarelo\". <br> Após fazer isso para todas as linhas, excluimos a coluna \"Cores\" original do dataframe."
   ]
  },
  {
   "cell_type": "markdown",
   "metadata": {},
   "source": [
    "## Conceito: Cardinalidade\n",
    "\n",
    "Significa o número de valores únicos em uma coluna. \n",
    "\n",
    "Selecionar colunas categóricas com baixa cardinalidade é conveniente, mas arbitrário."
   ]
  },
  {
   "cell_type": "code",
   "execution_count": null,
   "metadata": {},
   "outputs": [],
   "source": [
    "\n",
    "\n",
    "import pandas as pd\n",
    "from sklearn.model_selection import train_test_split\n",
    "\n",
    "# lendo os dados\n",
    "data = pd.read_csv('../input/melbourne-housing-snapshot/melb_data.csv')\n",
    "\n",
    "# separando features e alvo\n",
    "y = data.Price\n",
    "X = data.drop(['Price'], axis=1)\n",
    "\n",
    "# dividindo os dados para validação e treinamento\n",
    "X_train_full, X_valid_full, y_train, y_valid = train_test_split(X, y, train_size=0.8, test_size=0.2, random_state=0)\n",
    "\n",
    "# removendo colunas com valores NaN (abordagem mais simples)\n",
    "colunas_faltantes = []\n",
    "\n",
    "for col in X_train_full.columns:\n",
    "    if X_train_full[col].isnull().any():\n",
    "        colunas_faltantes.append(col)\n",
    "X_train_full.drop(colunas_faltantes, axis=1, inplace=True)\n",
    "X_valid_full.drop(colunas_faltantes, axis=1, inplace=True)\n",
    "\n",
    "# vamos selecionar apenas colunas com baixa cardinalidade e também as numéricas para um melhor modelo\n",
    "\n",
    "# baixa cardinalidade\n",
    "low_cardinality_cols = []\n",
    "for cname in X_train_full.columns:\n",
    "    if X_train_full[cname].nunique() < 10 and X_train_full[cname].dtype == \"object\":\n",
    "        low_cardinality_cols.append(cname)\n",
    "\n",
    "# colunas numéricas\n",
    "numerical_cols = []\n",
    "for cname in X_train_full.columns:\n",
    "    if X_train_full[cname].dtype in ['int64', 'float64']:\n",
    "        numerical_cols.append(cname)\n",
    "\n",
    "# colunas selecionadas\n",
    "my_cols = low_cardinality_cols + numerical_cols\n",
    "X_train = X_train_full[my_cols].copy()\n",
    "X_valid = X_valid_full[my_cols].copy()"
   ]
  },
  {
   "cell_type": "markdown",
   "metadata": {},
   "source": [
    "Analisando quais variáveis são categóricas (são do tipo object):"
   ]
  },
  {
   "cell_type": "code",
   "execution_count": null,
   "metadata": {},
   "outputs": [],
   "source": [
    "s = (X_train.dtypes == 'object')\n",
    "object_cols = list(s[s].index)\n",
    "\n",
    "print(\"Categorical variables:\")\n",
    "print(object_cols)"
   ]
  },
  {
   "cell_type": "markdown",
   "metadata": {},
   "source": [
    "Para testar cada uma das abordagens, usamos a função abaixo para comprar o erro médio absoluto:"
   ]
  },
  {
   "cell_type": "code",
   "execution_count": null,
   "metadata": {},
   "outputs": [],
   "source": [
    "from sklearn.ensemble import RandomForestRegressor\n",
    "from sklearn.metrics import mean_absolute_error\n",
    "\n",
    "def score_dataset(X_train, X_valid, y_train, y_valid):\n",
    "    model = RandomForestRegressor(n_estimators=100, random_state=0)\n",
    "    model.fit(X_train, y_train)\n",
    "    preds = model.predict(X_valid)\n",
    "    return mean_absolute_error(y_valid, preds)"
   ]
  },
  {
   "cell_type": "markdown",
   "metadata": {},
   "source": [
    "## Primeira abordagem: Remover variáveis categóricas"
   ]
  },
  {
   "cell_type": "code",
   "execution_count": null,
   "metadata": {},
   "outputs": [],
   "source": [
    "drop_X_train = X_train.select_dtypes(exclude=['object'])\n",
    "drop_X_valid = X_valid.select_dtypes(exclude=['object'])\n",
    "\n",
    "print(\"MAE from Approach 1 (Drop categorical variables):\")\n",
    "print(score_dataset(drop_X_train, drop_X_valid, y_train, y_valid))"
   ]
  },
  {
   "cell_type": "markdown",
   "metadata": {},
   "source": [
    "## Segunda abordagem: Ordinal Encoding"
   ]
  },
  {
   "cell_type": "code",
   "execution_count": null,
   "metadata": {},
   "outputs": [],
   "source": [
    "from sklearn.preprocessing import OrdinalEncoder\n",
    "\n",
    "# cópia dos dados originais\n",
    "label_X_train = X_train.copy()\n",
    "label_X_valid = X_valid.copy()\n",
    "\n",
    "# aplicando a ordinal encoding em cada coluna com variáveis categóricas\n",
    "ordinal_encoder = OrdinalEncoder()\n",
    "label_X_train[object_cols] = ordinal_encoder.fit_transform(X_train[object_cols])\n",
    "label_X_valid[object_cols] = ordinal_encoder.transform(X_valid[object_cols])\n",
    "\n",
    "print(\"MAE from Approach 2 (Ordinal Encoding):\") \n",
    "print(score_dataset(label_X_train, label_X_valid, y_train, y_valid))"
   ]
  },
  {
   "cell_type": "markdown",
   "metadata": {},
   "source": [
    "## Terceira Abordagem: One-Hot Encoding\n",
    "- `object_cols` na cédula abaixo, contém o nome das colunas com variáveis categórias."
   ]
  },
  {
   "cell_type": "code",
   "execution_count": null,
   "metadata": {},
   "outputs": [],
   "source": [
    "from sklearn.preprocessing import OneHotEncoder\n",
    "\n",
    "# aplicando a one-hot encoding em cada coluna categórica\n",
    "OH_encoder = OneHotEncoder(handle_unknown='ignore', sparse=False) # Nota: handle_unknown='ignore' assegura que não haverá erros e sparse=False garante o retorno por um array numpy\n",
    "OH_cols_train = pd.DataFrame(OH_encoder.fit_transform(X_train[object_cols]))\n",
    "OH_cols_valid = pd.DataFrame(OH_encoder.transform(X_valid[object_cols]))\n",
    "\n",
    "# one-hot encoding remove índices das colunas, colocamos eles de volta\n",
    "OH_cols_train.index = X_train.index\n",
    "OH_cols_valid.index = X_valid.index\n",
    "\n",
    "# removendo as colunas do dataframe original que contia as variáveis categóricas\n",
    "num_X_train = X_train.drop(object_cols, axis=1)\n",
    "num_X_valid = X_valid.drop(object_cols, axis=1)\n",
    "\n",
    "# Cria as novas colunas a partir da one-hot com inteiros\n",
    "OH_X_train = pd.concat([num_X_train, OH_cols_train], axis=1)\n",
    "OH_X_valid = pd.concat([num_X_valid, OH_cols_valid], axis=1)\n",
    "\n",
    "# Transforma os nomes das colunas em tipo string\n",
    "OH_X_train.columns = OH_X_train.columns.astype(str)\n",
    "OH_X_valid.columns = OH_X_valid.columns.astype(str)\n",
    "\n",
    "print(\"MAE from Approach 3 (One-Hot Encoding):\") \n",
    "print(score_dataset(OH_X_train, OH_X_valid, y_train, y_valid))"
   ]
  }
 ],
 "metadata": {
  "language_info": {
   "name": "python"
  }
 },
 "nbformat": 4,
 "nbformat_minor": 2
}
