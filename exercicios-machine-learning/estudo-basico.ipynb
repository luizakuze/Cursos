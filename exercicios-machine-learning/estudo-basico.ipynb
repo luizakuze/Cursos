{
 "cells": [
  {
   "cell_type": "markdown",
   "metadata": {},
   "source": [
    "# Passo a Passo - Básico"
   ]
  },
  {
   "cell_type": "code",
   "execution_count": null,
   "metadata": {},
   "outputs": [],
   "source": [
    "#@title ler arquivo\n",
    "import pandas as pd\n",
    "\n",
    "file_path = \"...\"\n",
    "data = pd.read_csv(file_path)"
   ]
  },
  {
   "cell_type": "code",
   "execution_count": null,
   "metadata": {},
   "outputs": [],
   "source": [
    "#@title escolher o \"alvo\" (prediction target)\n",
    "y = data.nome_coluna_alvo"
   ]
  },
  {
   "cell_type": "code",
   "execution_count": null,
   "metadata": {},
   "outputs": [],
   "source": [
    "#@title escolher as \"features\", as características\n",
    "data_features = ['coluna_x1', 'coluna_x2', 'coluna_x3']\n",
    "\n",
    "X = data[data_features]"
   ]
  },
  {
   "cell_type": "code",
   "execution_count": null,
   "metadata": {},
   "outputs": [],
   "source": [
    "#@title dividir os dados para treino e validação\n",
    "from sklearn.model_selection import train_test_split\n",
    "train_X, val_X, train_y, val_y  = train_test_split(random_state = 0)"
   ]
  },
  {
   "cell_type": "code",
   "execution_count": null,
   "metadata": {},
   "outputs": [],
   "source": [
    "#@title verificar se existem valores faltantes\n",
    "\n",
    "## existem 3 maiores abordagens:\n",
    "## - excluir linhas com dados faltantes\n",
    "## - imputação - atribuir aos valores faltantes a média dos valores de cada coluna\n",
    "## - extensão da imputação - faz a imputação padrão e também uma nova coluna para mostrar onde a imputação foi feita\n",
    "\n",
    "# para saber qual a melhor abordagem, podemos testar uma a uma com uma função:\n",
    "\n",
    "\n",
    "from sklearn.tree import DecisionTreeRegressor\n",
    "from sklearn.metrics import mean_absolute_error\n",
    "\n",
    "def  get_score (train_X, val_X, train_y, val_y):\n",
    "    model = DecisionTreeRegressor(random_state = 1)\n",
    "    model.fit(train_X, train_y)\n",
    "    preds = model.predict(val_X)\n",
    "    return mean_absolute_error(val_y, preds)"
   ]
  },
  {
   "cell_type": "code",
   "execution_count": null,
   "metadata": {},
   "outputs": [],
   "source": [
    "#@title Primeira abordagem\n",
    "\n",
    "dados_nulos = []\n",
    "\n",
    "for coluna in train_X.columns:\n",
    "    if train_X[coluna].isnull().any():\n",
    "        # se houver valores NaN, adiciona a lista \n",
    "        dados_nulos.append(coluna)\n",
    "\n",
    "# removendo essas colunas\n",
    "train_X_reduzido = train_X.drop(dados_nulos, axis=1)\n",
    "val_X_reduzido = val_X.drop(dados_nulos, axis=1)\n",
    "\n",
    "print(\"MAE: \", get_score(train_X_reduzido, val_X_reduzido, train_y, val_y))"
   ]
  },
  {
   "cell_type": "code",
   "execution_count": null,
   "metadata": {},
   "outputs": [],
   "source": [
    "#@title construindo modelo\n",
    "# 1) definir tipo de modelo (ex. árvore de decisão)\n",
    "from sklearn.tree import DecisionTreeRegressor\n",
    "data_model = DecisionTreeRegressor(random_state = 1)"
   ]
  },
  {
   "cell_type": "code",
   "execution_count": null,
   "metadata": {},
   "outputs": [],
   "source": [
    "# 2) ajustar modelo as variáveis \n",
    "data_model.fit(train_X, train_y)"
   ]
  },
  {
   "cell_type": "code",
   "execution_count": null,
   "metadata": {},
   "outputs": [],
   "source": [
    "# 3) fazer previsões\n",
    "val_predictions = data_model.predict(val_X)"
   ]
  },
  {
   "cell_type": "code",
   "execution_count": null,
   "metadata": {},
   "outputs": [],
   "source": [
    "# 4) validar o modelo\n",
    "\n",
    "## pode ser validado pelo erro médio absoluto (Mean Absolute Error - MAE)\n",
    "\n",
    "from sklearn.metrics import mean_absolute_error\n",
    "\n",
    "print(mean_absolute_error(val_y, val_predictions))"
   ]
  },
  {
   "cell_type": "code",
   "execution_count": null,
   "metadata": {},
   "outputs": [],
   "source": [
    "# comparando os resultados obtidos com os resultados atuais/reais\n",
    "print('Previsão: ', val_predictions[:5])\n",
    "print('Atual: ', val_y.head().tolist())"
   ]
  }
 ],
 "metadata": {
  "language_info": {
   "name": "python"
  }
 },
 "nbformat": 4,
 "nbformat_minor": 2
}
