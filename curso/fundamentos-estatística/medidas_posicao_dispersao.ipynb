{
 "cells": [
  {
   "cell_type": "markdown",
   "metadata": {},
   "source": [
    "# Medidas de dispersão e posição"
   ]
  },
  {
   "cell_type": "code",
   "execution_count": 13,
   "metadata": {},
   "outputs": [],
   "source": [
    "import numpy as np\n",
    "import pandas as pd"
   ]
  },
  {
   "cell_type": "code",
   "execution_count": 14,
   "metadata": {},
   "outputs": [],
   "source": [
    "enem_sp = pd.read_csv('enem_2019_tratado.csv', sep=',', encoding='iso-8859-1')"
   ]
  },
  {
   "cell_type": "markdown",
   "metadata": {},
   "source": [
    "## Medidas de Dispersão"
   ]
  },
  {
   "cell_type": "code",
   "execution_count": 15,
   "metadata": {},
   "outputs": [
    {
     "data": {
      "text/plain": [
       "33659.47050441148"
      ]
     },
     "execution_count": 15,
     "metadata": {},
     "output_type": "execute_result"
    }
   ],
   "source": [
    "enem_sp.NOTA_MT.var() # variância"
   ]
  },
  {
   "cell_type": "code",
   "execution_count": 16,
   "metadata": {},
   "outputs": [
    {
     "data": {
      "text/plain": [
       "183.46517518158993"
      ]
     },
     "execution_count": 16,
     "metadata": {},
     "output_type": "execute_result"
    }
   ],
   "source": [
    "enem_sp.NOTA_MT.std() # desvio padrão"
   ]
  },
  {
   "cell_type": "code",
   "execution_count": 17,
   "metadata": {},
   "outputs": [
    {
     "data": {
      "text/plain": [
       "497.5942403088371"
      ]
     },
     "execution_count": 17,
     "metadata": {},
     "output_type": "execute_result"
    }
   ],
   "source": [
    "enem_sp.NOTA_MT.mean() # média"
   ]
  },
  {
   "cell_type": "code",
   "execution_count": null,
   "metadata": {},
   "outputs": [],
   "source": [
    "enem_sp.NOTA_MT.mad() # desvio absoluto, amplitude do desvio em relação à media. \n",
    "                      # não consegui rodar o comando!"
   ]
  },
  {
   "cell_type": "code",
   "execution_count": 25,
   "metadata": {},
   "outputs": [
    {
     "data": {
      "text/plain": [
       "593.0183221986639"
      ]
     },
     "execution_count": 25,
     "metadata": {},
     "output_type": "execute_result"
    }
   ],
   "source": [
    "enem_sp.NOTA_REDACAO.mean()"
   ]
  },
  {
   "cell_type": "code",
   "execution_count": 24,
   "metadata": {},
   "outputs": [
    {
     "data": {
      "text/plain": [
       "183.46517518158993"
      ]
     },
     "execution_count": 24,
     "metadata": {},
     "output_type": "execute_result"
    }
   ],
   "source": [
    "enem_sp.NOTA_REDACAO.std()"
   ]
  },
  {
   "cell_type": "code",
   "execution_count": 26,
   "metadata": {},
   "outputs": [
    {
     "data": {
      "text/plain": [
       "29082.774122780305"
      ]
     },
     "execution_count": 26,
     "metadata": {},
     "output_type": "execute_result"
    }
   ],
   "source": [
    "enem_sp.NOTA_REDACAO.var()"
   ]
  },
  {
   "cell_type": "code",
   "execution_count": 30,
   "metadata": {},
   "outputs": [
    {
     "data": {
      "text/html": [
       "<div>\n",
       "<style scoped>\n",
       "    .dataframe tbody tr th:only-of-type {\n",
       "        vertical-align: middle;\n",
       "    }\n",
       "\n",
       "    .dataframe tbody tr th {\n",
       "        vertical-align: top;\n",
       "    }\n",
       "\n",
       "    .dataframe thead th {\n",
       "        text-align: right;\n",
       "    }\n",
       "</style>\n",
       "<table border=\"1\" class=\"dataframe\">\n",
       "  <thead>\n",
       "    <tr style=\"text-align: right;\">\n",
       "      <th></th>\n",
       "      <th>IDADE</th>\n",
       "      <th>TP_ESTADO_CIVIL</th>\n",
       "      <th>TP_NACIONALIDADE</th>\n",
       "      <th>TP_ST_CONCLUSAO</th>\n",
       "      <th>CO_ESCOLA</th>\n",
       "      <th>TP_PRESENCA_CN</th>\n",
       "      <th>TP_PRESENCA_CH</th>\n",
       "      <th>TP_PRESENCA_LC</th>\n",
       "      <th>TP_PRESENCA_MT</th>\n",
       "      <th>NOTA_CN</th>\n",
       "      <th>NOTA_CH</th>\n",
       "      <th>NOTA_LC</th>\n",
       "      <th>NOTA_MT</th>\n",
       "      <th>TP_STATUS_REDACAO</th>\n",
       "      <th>COMP1</th>\n",
       "      <th>COMP2</th>\n",
       "      <th>COMP3</th>\n",
       "      <th>COMP4</th>\n",
       "      <th>COMP5</th>\n",
       "      <th>NOTA_REDACAO</th>\n",
       "    </tr>\n",
       "  </thead>\n",
       "  <tbody>\n",
       "    <tr>\n",
       "      <th>count</th>\n",
       "      <td>499940.000000</td>\n",
       "      <td>499940.000000</td>\n",
       "      <td>499940.000000</td>\n",
       "      <td>499940.000000</td>\n",
       "      <td>1.768940e+05</td>\n",
       "      <td>499940.0</td>\n",
       "      <td>499940.0</td>\n",
       "      <td>499940.0</td>\n",
       "      <td>499940.0</td>\n",
       "      <td>499940.000000</td>\n",
       "      <td>499940.000000</td>\n",
       "      <td>499940.000000</td>\n",
       "      <td>499940.000000</td>\n",
       "      <td>499940.000000</td>\n",
       "      <td>499940.000000</td>\n",
       "      <td>499940.000000</td>\n",
       "      <td>499940.000000</td>\n",
       "      <td>499940.000000</td>\n",
       "      <td>499940.000000</td>\n",
       "      <td>499940.000000</td>\n",
       "    </tr>\n",
       "    <tr>\n",
       "      <th>mean</th>\n",
       "      <td>20.593387</td>\n",
       "      <td>1.053206</td>\n",
       "      <td>1.029902</td>\n",
       "      <td>1.476085</td>\n",
       "      <td>3.521138e+07</td>\n",
       "      <td>1.0</td>\n",
       "      <td>1.0</td>\n",
       "      <td>1.0</td>\n",
       "      <td>1.0</td>\n",
       "      <td>449.917000</td>\n",
       "      <td>482.228054</td>\n",
       "      <td>491.941262</td>\n",
       "      <td>497.594240</td>\n",
       "      <td>1.072105</td>\n",
       "      <td>125.000760</td>\n",
       "      <td>127.066808</td>\n",
       "      <td>118.760691</td>\n",
       "      <td>124.989359</td>\n",
       "      <td>97.200704</td>\n",
       "      <td>593.018322</td>\n",
       "    </tr>\n",
       "    <tr>\n",
       "      <th>std</th>\n",
       "      <td>6.465291</td>\n",
       "      <td>0.380866</td>\n",
       "      <td>0.230986</td>\n",
       "      <td>0.510351</td>\n",
       "      <td>4.430392e+05</td>\n",
       "      <td>0.0</td>\n",
       "      <td>0.0</td>\n",
       "      <td>0.0</td>\n",
       "      <td>0.0</td>\n",
       "      <td>152.982255</td>\n",
       "      <td>161.122963</td>\n",
       "      <td>156.247134</td>\n",
       "      <td>183.465175</td>\n",
       "      <td>0.584314</td>\n",
       "      <td>28.629513</td>\n",
       "      <td>39.846083</td>\n",
       "      <td>36.778882</td>\n",
       "      <td>33.879299</td>\n",
       "      <td>57.787427</td>\n",
       "      <td>170.536724</td>\n",
       "    </tr>\n",
       "    <tr>\n",
       "      <th>min</th>\n",
       "      <td>12.000000</td>\n",
       "      <td>0.000000</td>\n",
       "      <td>0.000000</td>\n",
       "      <td>1.000000</td>\n",
       "      <td>1.100306e+07</td>\n",
       "      <td>1.0</td>\n",
       "      <td>1.0</td>\n",
       "      <td>1.0</td>\n",
       "      <td>1.0</td>\n",
       "      <td>0.000000</td>\n",
       "      <td>0.000000</td>\n",
       "      <td>0.000000</td>\n",
       "      <td>0.000000</td>\n",
       "      <td>1.000000</td>\n",
       "      <td>0.000000</td>\n",
       "      <td>0.000000</td>\n",
       "      <td>0.000000</td>\n",
       "      <td>0.000000</td>\n",
       "      <td>0.000000</td>\n",
       "      <td>0.000000</td>\n",
       "    </tr>\n",
       "    <tr>\n",
       "      <th>25%</th>\n",
       "      <td>17.000000</td>\n",
       "      <td>1.000000</td>\n",
       "      <td>1.000000</td>\n",
       "      <td>1.000000</td>\n",
       "      <td>3.501625e+07</td>\n",
       "      <td>1.0</td>\n",
       "      <td>1.0</td>\n",
       "      <td>1.0</td>\n",
       "      <td>1.0</td>\n",
       "      <td>412.400000</td>\n",
       "      <td>450.600000</td>\n",
       "      <td>490.100000</td>\n",
       "      <td>427.900000</td>\n",
       "      <td>1.000000</td>\n",
       "      <td>120.000000</td>\n",
       "      <td>120.000000</td>\n",
       "      <td>100.000000</td>\n",
       "      <td>120.000000</td>\n",
       "      <td>60.000000</td>\n",
       "      <td>500.000000</td>\n",
       "    </tr>\n",
       "    <tr>\n",
       "      <th>50%</th>\n",
       "      <td>18.000000</td>\n",
       "      <td>1.000000</td>\n",
       "      <td>1.000000</td>\n",
       "      <td>1.000000</td>\n",
       "      <td>3.504496e+07</td>\n",
       "      <td>1.0</td>\n",
       "      <td>1.0</td>\n",
       "      <td>1.0</td>\n",
       "      <td>1.0</td>\n",
       "      <td>478.100000</td>\n",
       "      <td>523.700000</td>\n",
       "      <td>538.300000</td>\n",
       "      <td>511.800000</td>\n",
       "      <td>1.000000</td>\n",
       "      <td>120.000000</td>\n",
       "      <td>120.000000</td>\n",
       "      <td>120.000000</td>\n",
       "      <td>120.000000</td>\n",
       "      <td>100.000000</td>\n",
       "      <td>600.000000</td>\n",
       "    </tr>\n",
       "    <tr>\n",
       "      <th>75%</th>\n",
       "      <td>21.000000</td>\n",
       "      <td>1.000000</td>\n",
       "      <td>1.000000</td>\n",
       "      <td>2.000000</td>\n",
       "      <td>3.529070e+07</td>\n",
       "      <td>1.0</td>\n",
       "      <td>1.0</td>\n",
       "      <td>1.0</td>\n",
       "      <td>1.0</td>\n",
       "      <td>544.400000</td>\n",
       "      <td>578.100000</td>\n",
       "      <td>576.200000</td>\n",
       "      <td>617.900000</td>\n",
       "      <td>1.000000</td>\n",
       "      <td>140.000000</td>\n",
       "      <td>140.000000</td>\n",
       "      <td>140.000000</td>\n",
       "      <td>140.000000</td>\n",
       "      <td>140.000000</td>\n",
       "      <td>680.000000</td>\n",
       "    </tr>\n",
       "    <tr>\n",
       "      <th>max</th>\n",
       "      <td>91.000000</td>\n",
       "      <td>4.000000</td>\n",
       "      <td>4.000000</td>\n",
       "      <td>4.000000</td>\n",
       "      <td>5.300104e+07</td>\n",
       "      <td>1.0</td>\n",
       "      <td>1.0</td>\n",
       "      <td>1.0</td>\n",
       "      <td>1.0</td>\n",
       "      <td>860.900000</td>\n",
       "      <td>822.700000</td>\n",
       "      <td>772.300000</td>\n",
       "      <td>984.700000</td>\n",
       "      <td>9.000000</td>\n",
       "      <td>200.000000</td>\n",
       "      <td>200.000000</td>\n",
       "      <td>200.000000</td>\n",
       "      <td>200.000000</td>\n",
       "      <td>200.000000</td>\n",
       "      <td>1000.000000</td>\n",
       "    </tr>\n",
       "  </tbody>\n",
       "</table>\n",
       "</div>"
      ],
      "text/plain": [
       "               IDADE  TP_ESTADO_CIVIL  TP_NACIONALIDADE  TP_ST_CONCLUSAO  \\\n",
       "count  499940.000000    499940.000000     499940.000000    499940.000000   \n",
       "mean       20.593387         1.053206          1.029902         1.476085   \n",
       "std         6.465291         0.380866          0.230986         0.510351   \n",
       "min        12.000000         0.000000          0.000000         1.000000   \n",
       "25%        17.000000         1.000000          1.000000         1.000000   \n",
       "50%        18.000000         1.000000          1.000000         1.000000   \n",
       "75%        21.000000         1.000000          1.000000         2.000000   \n",
       "max        91.000000         4.000000          4.000000         4.000000   \n",
       "\n",
       "          CO_ESCOLA  TP_PRESENCA_CN  TP_PRESENCA_CH  TP_PRESENCA_LC  \\\n",
       "count  1.768940e+05        499940.0        499940.0        499940.0   \n",
       "mean   3.521138e+07             1.0             1.0             1.0   \n",
       "std    4.430392e+05             0.0             0.0             0.0   \n",
       "min    1.100306e+07             1.0             1.0             1.0   \n",
       "25%    3.501625e+07             1.0             1.0             1.0   \n",
       "50%    3.504496e+07             1.0             1.0             1.0   \n",
       "75%    3.529070e+07             1.0             1.0             1.0   \n",
       "max    5.300104e+07             1.0             1.0             1.0   \n",
       "\n",
       "       TP_PRESENCA_MT        NOTA_CN        NOTA_CH        NOTA_LC  \\\n",
       "count        499940.0  499940.000000  499940.000000  499940.000000   \n",
       "mean              1.0     449.917000     482.228054     491.941262   \n",
       "std               0.0     152.982255     161.122963     156.247134   \n",
       "min               1.0       0.000000       0.000000       0.000000   \n",
       "25%               1.0     412.400000     450.600000     490.100000   \n",
       "50%               1.0     478.100000     523.700000     538.300000   \n",
       "75%               1.0     544.400000     578.100000     576.200000   \n",
       "max               1.0     860.900000     822.700000     772.300000   \n",
       "\n",
       "             NOTA_MT  TP_STATUS_REDACAO          COMP1          COMP2  \\\n",
       "count  499940.000000      499940.000000  499940.000000  499940.000000   \n",
       "mean      497.594240           1.072105     125.000760     127.066808   \n",
       "std       183.465175           0.584314      28.629513      39.846083   \n",
       "min         0.000000           1.000000       0.000000       0.000000   \n",
       "25%       427.900000           1.000000     120.000000     120.000000   \n",
       "50%       511.800000           1.000000     120.000000     120.000000   \n",
       "75%       617.900000           1.000000     140.000000     140.000000   \n",
       "max       984.700000           9.000000     200.000000     200.000000   \n",
       "\n",
       "               COMP3          COMP4          COMP5   NOTA_REDACAO  \n",
       "count  499940.000000  499940.000000  499940.000000  499940.000000  \n",
       "mean      118.760691     124.989359      97.200704     593.018322  \n",
       "std        36.778882      33.879299      57.787427     170.536724  \n",
       "min         0.000000       0.000000       0.000000       0.000000  \n",
       "25%       100.000000     120.000000      60.000000     500.000000  \n",
       "50%       120.000000     120.000000     100.000000     600.000000  \n",
       "75%       140.000000     140.000000     140.000000     680.000000  \n",
       "max       200.000000     200.000000     200.000000    1000.000000  "
      ]
     },
     "execution_count": 30,
     "metadata": {},
     "output_type": "execute_result"
    }
   ],
   "source": [
    "enem_sp.describe()"
   ]
  },
  {
   "cell_type": "markdown",
   "metadata": {},
   "source": [
    "## Medidas de Posição"
   ]
  },
  {
   "cell_type": "code",
   "execution_count": 27,
   "metadata": {},
   "outputs": [
    {
     "data": {
      "text/plain": [
       "0.0"
      ]
     },
     "execution_count": 27,
     "metadata": {},
     "output_type": "execute_result"
    }
   ],
   "source": [
    "# Mínimo\n",
    "enem_sp['NOTA_MT'].min()"
   ]
  },
  {
   "cell_type": "code",
   "execution_count": 28,
   "metadata": {},
   "outputs": [
    {
     "data": {
      "text/plain": [
       "0.0"
      ]
     },
     "execution_count": 28,
     "metadata": {},
     "output_type": "execute_result"
    }
   ],
   "source": [
    "enem_sp.NOTA_MT.min()"
   ]
  },
  {
   "cell_type": "code",
   "execution_count": 29,
   "metadata": {},
   "outputs": [
    {
     "data": {
      "text/plain": [
       "984.7"
      ]
     },
     "execution_count": 29,
     "metadata": {},
     "output_type": "execute_result"
    }
   ],
   "source": [
    "# Máximo\n",
    "enem_sp['NOTA_MT'].max()"
   ]
  },
  {
   "cell_type": "code",
   "execution_count": 31,
   "metadata": {},
   "outputs": [
    {
     "data": {
      "text/plain": [
       "427.9"
      ]
     },
     "execution_count": 31,
     "metadata": {},
     "output_type": "execute_result"
    }
   ],
   "source": [
    "# Primeiro Quartil\n",
    "enem_sp['NOTA_MT'].quantile(q=0.25) # 25% dos menores valores"
   ]
  },
  {
   "cell_type": "code",
   "execution_count": 32,
   "metadata": {},
   "outputs": [
    {
     "data": {
      "text/plain": [
       "511.8"
      ]
     },
     "execution_count": 32,
     "metadata": {},
     "output_type": "execute_result"
    }
   ],
   "source": [
    "# Segundo Quartil (Mediana)\n",
    "enem_sp['NOTA_MT'].quantile(q=0.5)"
   ]
  },
  {
   "cell_type": "code",
   "execution_count": 33,
   "metadata": {},
   "outputs": [
    {
     "data": {
      "text/plain": [
       "617.9"
      ]
     },
     "execution_count": 33,
     "metadata": {},
     "output_type": "execute_result"
    }
   ],
   "source": [
    "# Terceiro Quartil\n",
    "enem_sp['NOTA_MT'].quantile(q=0.75)"
   ]
  },
  {
   "cell_type": "code",
   "execution_count": null,
   "metadata": {},
   "outputs": [],
   "source": [
    "#enem_sp['NOTA_MT'].quantile(q=0.99) pode se trabalhar com qualquer valor de quartil"
   ]
  },
  {
   "cell_type": "code",
   "execution_count": 34,
   "metadata": {},
   "outputs": [
    {
     "data": {
      "text/plain": [
       "count    499940.000000\n",
       "mean        497.594240\n",
       "std         183.465175\n",
       "min           0.000000\n",
       "25%         427.900000\n",
       "50%         511.800000\n",
       "75%         617.900000\n",
       "max         984.700000\n",
       "Name: NOTA_MT, dtype: float64"
      ]
     },
     "execution_count": 34,
     "metadata": {},
     "output_type": "execute_result"
    }
   ],
   "source": [
    "enem_sp.NOTA_MT.describe()"
   ]
  },
  {
   "cell_type": "code",
   "execution_count": 35,
   "metadata": {},
   "outputs": [
    {
     "data": {
      "text/html": [
       "<div>\n",
       "<style scoped>\n",
       "    .dataframe tbody tr th:only-of-type {\n",
       "        vertical-align: middle;\n",
       "    }\n",
       "\n",
       "    .dataframe tbody tr th {\n",
       "        vertical-align: top;\n",
       "    }\n",
       "\n",
       "    .dataframe thead th {\n",
       "        text-align: right;\n",
       "    }\n",
       "</style>\n",
       "<table border=\"1\" class=\"dataframe\">\n",
       "  <thead>\n",
       "    <tr style=\"text-align: right;\">\n",
       "      <th></th>\n",
       "      <th>IDADE</th>\n",
       "      <th>TP_ESTADO_CIVIL</th>\n",
       "      <th>TP_NACIONALIDADE</th>\n",
       "      <th>TP_ST_CONCLUSAO</th>\n",
       "      <th>CO_ESCOLA</th>\n",
       "      <th>TP_PRESENCA_CN</th>\n",
       "      <th>TP_PRESENCA_CH</th>\n",
       "      <th>TP_PRESENCA_LC</th>\n",
       "      <th>TP_PRESENCA_MT</th>\n",
       "      <th>NOTA_CN</th>\n",
       "      <th>NOTA_CH</th>\n",
       "      <th>NOTA_LC</th>\n",
       "      <th>NOTA_MT</th>\n",
       "      <th>TP_STATUS_REDACAO</th>\n",
       "      <th>COMP1</th>\n",
       "      <th>COMP2</th>\n",
       "      <th>COMP3</th>\n",
       "      <th>COMP4</th>\n",
       "      <th>COMP5</th>\n",
       "      <th>NOTA_REDACAO</th>\n",
       "    </tr>\n",
       "  </thead>\n",
       "  <tbody>\n",
       "    <tr>\n",
       "      <th>count</th>\n",
       "      <td>499940.00</td>\n",
       "      <td>499940.00</td>\n",
       "      <td>499940.00</td>\n",
       "      <td>499940.00</td>\n",
       "      <td>176894.00</td>\n",
       "      <td>499940.0</td>\n",
       "      <td>499940.0</td>\n",
       "      <td>499940.0</td>\n",
       "      <td>499940.0</td>\n",
       "      <td>499940.00</td>\n",
       "      <td>499940.00</td>\n",
       "      <td>499940.00</td>\n",
       "      <td>499940.00</td>\n",
       "      <td>499940.00</td>\n",
       "      <td>499940.00</td>\n",
       "      <td>499940.00</td>\n",
       "      <td>499940.00</td>\n",
       "      <td>499940.00</td>\n",
       "      <td>499940.00</td>\n",
       "      <td>499940.00</td>\n",
       "    </tr>\n",
       "    <tr>\n",
       "      <th>mean</th>\n",
       "      <td>20.59</td>\n",
       "      <td>1.05</td>\n",
       "      <td>1.03</td>\n",
       "      <td>1.48</td>\n",
       "      <td>35211378.17</td>\n",
       "      <td>1.0</td>\n",
       "      <td>1.0</td>\n",
       "      <td>1.0</td>\n",
       "      <td>1.0</td>\n",
       "      <td>449.92</td>\n",
       "      <td>482.23</td>\n",
       "      <td>491.94</td>\n",
       "      <td>497.59</td>\n",
       "      <td>1.07</td>\n",
       "      <td>125.00</td>\n",
       "      <td>127.07</td>\n",
       "      <td>118.76</td>\n",
       "      <td>124.99</td>\n",
       "      <td>97.20</td>\n",
       "      <td>593.02</td>\n",
       "    </tr>\n",
       "    <tr>\n",
       "      <th>std</th>\n",
       "      <td>6.47</td>\n",
       "      <td>0.38</td>\n",
       "      <td>0.23</td>\n",
       "      <td>0.51</td>\n",
       "      <td>443039.20</td>\n",
       "      <td>0.0</td>\n",
       "      <td>0.0</td>\n",
       "      <td>0.0</td>\n",
       "      <td>0.0</td>\n",
       "      <td>152.98</td>\n",
       "      <td>161.12</td>\n",
       "      <td>156.25</td>\n",
       "      <td>183.47</td>\n",
       "      <td>0.58</td>\n",
       "      <td>28.63</td>\n",
       "      <td>39.85</td>\n",
       "      <td>36.78</td>\n",
       "      <td>33.88</td>\n",
       "      <td>57.79</td>\n",
       "      <td>170.54</td>\n",
       "    </tr>\n",
       "    <tr>\n",
       "      <th>min</th>\n",
       "      <td>12.00</td>\n",
       "      <td>0.00</td>\n",
       "      <td>0.00</td>\n",
       "      <td>1.00</td>\n",
       "      <td>11003065.00</td>\n",
       "      <td>1.0</td>\n",
       "      <td>1.0</td>\n",
       "      <td>1.0</td>\n",
       "      <td>1.0</td>\n",
       "      <td>0.00</td>\n",
       "      <td>0.00</td>\n",
       "      <td>0.00</td>\n",
       "      <td>0.00</td>\n",
       "      <td>1.00</td>\n",
       "      <td>0.00</td>\n",
       "      <td>0.00</td>\n",
       "      <td>0.00</td>\n",
       "      <td>0.00</td>\n",
       "      <td>0.00</td>\n",
       "      <td>0.00</td>\n",
       "    </tr>\n",
       "    <tr>\n",
       "      <th>25%</th>\n",
       "      <td>17.00</td>\n",
       "      <td>1.00</td>\n",
       "      <td>1.00</td>\n",
       "      <td>1.00</td>\n",
       "      <td>35016251.00</td>\n",
       "      <td>1.0</td>\n",
       "      <td>1.0</td>\n",
       "      <td>1.0</td>\n",
       "      <td>1.0</td>\n",
       "      <td>412.40</td>\n",
       "      <td>450.60</td>\n",
       "      <td>490.10</td>\n",
       "      <td>427.90</td>\n",
       "      <td>1.00</td>\n",
       "      <td>120.00</td>\n",
       "      <td>120.00</td>\n",
       "      <td>100.00</td>\n",
       "      <td>120.00</td>\n",
       "      <td>60.00</td>\n",
       "      <td>500.00</td>\n",
       "    </tr>\n",
       "    <tr>\n",
       "      <th>50%</th>\n",
       "      <td>18.00</td>\n",
       "      <td>1.00</td>\n",
       "      <td>1.00</td>\n",
       "      <td>1.00</td>\n",
       "      <td>35044957.00</td>\n",
       "      <td>1.0</td>\n",
       "      <td>1.0</td>\n",
       "      <td>1.0</td>\n",
       "      <td>1.0</td>\n",
       "      <td>478.10</td>\n",
       "      <td>523.70</td>\n",
       "      <td>538.30</td>\n",
       "      <td>511.80</td>\n",
       "      <td>1.00</td>\n",
       "      <td>120.00</td>\n",
       "      <td>120.00</td>\n",
       "      <td>120.00</td>\n",
       "      <td>120.00</td>\n",
       "      <td>100.00</td>\n",
       "      <td>600.00</td>\n",
       "    </tr>\n",
       "    <tr>\n",
       "      <th>75%</th>\n",
       "      <td>21.00</td>\n",
       "      <td>1.00</td>\n",
       "      <td>1.00</td>\n",
       "      <td>2.00</td>\n",
       "      <td>35290701.00</td>\n",
       "      <td>1.0</td>\n",
       "      <td>1.0</td>\n",
       "      <td>1.0</td>\n",
       "      <td>1.0</td>\n",
       "      <td>544.40</td>\n",
       "      <td>578.10</td>\n",
       "      <td>576.20</td>\n",
       "      <td>617.90</td>\n",
       "      <td>1.00</td>\n",
       "      <td>140.00</td>\n",
       "      <td>140.00</td>\n",
       "      <td>140.00</td>\n",
       "      <td>140.00</td>\n",
       "      <td>140.00</td>\n",
       "      <td>680.00</td>\n",
       "    </tr>\n",
       "    <tr>\n",
       "      <th>max</th>\n",
       "      <td>91.00</td>\n",
       "      <td>4.00</td>\n",
       "      <td>4.00</td>\n",
       "      <td>4.00</td>\n",
       "      <td>53001036.00</td>\n",
       "      <td>1.0</td>\n",
       "      <td>1.0</td>\n",
       "      <td>1.0</td>\n",
       "      <td>1.0</td>\n",
       "      <td>860.90</td>\n",
       "      <td>822.70</td>\n",
       "      <td>772.30</td>\n",
       "      <td>984.70</td>\n",
       "      <td>9.00</td>\n",
       "      <td>200.00</td>\n",
       "      <td>200.00</td>\n",
       "      <td>200.00</td>\n",
       "      <td>200.00</td>\n",
       "      <td>200.00</td>\n",
       "      <td>1000.00</td>\n",
       "    </tr>\n",
       "  </tbody>\n",
       "</table>\n",
       "</div>"
      ],
      "text/plain": [
       "           IDADE  TP_ESTADO_CIVIL  TP_NACIONALIDADE  TP_ST_CONCLUSAO  \\\n",
       "count  499940.00        499940.00         499940.00        499940.00   \n",
       "mean       20.59             1.05              1.03             1.48   \n",
       "std         6.47             0.38              0.23             0.51   \n",
       "min        12.00             0.00              0.00             1.00   \n",
       "25%        17.00             1.00              1.00             1.00   \n",
       "50%        18.00             1.00              1.00             1.00   \n",
       "75%        21.00             1.00              1.00             2.00   \n",
       "max        91.00             4.00              4.00             4.00   \n",
       "\n",
       "         CO_ESCOLA  TP_PRESENCA_CN  TP_PRESENCA_CH  TP_PRESENCA_LC  \\\n",
       "count    176894.00        499940.0        499940.0        499940.0   \n",
       "mean   35211378.17             1.0             1.0             1.0   \n",
       "std      443039.20             0.0             0.0             0.0   \n",
       "min    11003065.00             1.0             1.0             1.0   \n",
       "25%    35016251.00             1.0             1.0             1.0   \n",
       "50%    35044957.00             1.0             1.0             1.0   \n",
       "75%    35290701.00             1.0             1.0             1.0   \n",
       "max    53001036.00             1.0             1.0             1.0   \n",
       "\n",
       "       TP_PRESENCA_MT    NOTA_CN    NOTA_CH    NOTA_LC    NOTA_MT  \\\n",
       "count        499940.0  499940.00  499940.00  499940.00  499940.00   \n",
       "mean              1.0     449.92     482.23     491.94     497.59   \n",
       "std               0.0     152.98     161.12     156.25     183.47   \n",
       "min               1.0       0.00       0.00       0.00       0.00   \n",
       "25%               1.0     412.40     450.60     490.10     427.90   \n",
       "50%               1.0     478.10     523.70     538.30     511.80   \n",
       "75%               1.0     544.40     578.10     576.20     617.90   \n",
       "max               1.0     860.90     822.70     772.30     984.70   \n",
       "\n",
       "       TP_STATUS_REDACAO      COMP1      COMP2      COMP3      COMP4  \\\n",
       "count          499940.00  499940.00  499940.00  499940.00  499940.00   \n",
       "mean                1.07     125.00     127.07     118.76     124.99   \n",
       "std                 0.58      28.63      39.85      36.78      33.88   \n",
       "min                 1.00       0.00       0.00       0.00       0.00   \n",
       "25%                 1.00     120.00     120.00     100.00     120.00   \n",
       "50%                 1.00     120.00     120.00     120.00     120.00   \n",
       "75%                 1.00     140.00     140.00     140.00     140.00   \n",
       "max                 9.00     200.00     200.00     200.00     200.00   \n",
       "\n",
       "           COMP5  NOTA_REDACAO  \n",
       "count  499940.00     499940.00  \n",
       "mean       97.20        593.02  \n",
       "std        57.79        170.54  \n",
       "min         0.00          0.00  \n",
       "25%        60.00        500.00  \n",
       "50%       100.00        600.00  \n",
       "75%       140.00        680.00  \n",
       "max       200.00       1000.00  "
      ]
     },
     "execution_count": 35,
     "metadata": {},
     "output_type": "execute_result"
    }
   ],
   "source": [
    "round(enem_sp.describe(), 2)"
   ]
  },
  {
   "cell_type": "markdown",
   "metadata": {},
   "source": [
    "## Gráfico BoxPlot e Outliers"
   ]
  },
  {
   "cell_type": "markdown",
   "metadata": {},
   "source": [
    "### Matplotlib"
   ]
  },
  {
   "cell_type": "code",
   "execution_count": 36,
   "metadata": {},
   "outputs": [],
   "source": [
    "import matplotlib.pyplot as plt"
   ]
  }
 ],
 "metadata": {
  "kernelspec": {
   "display_name": "Python 3",
   "language": "python",
   "name": "python3"
  },
  "language_info": {
   "codemirror_mode": {
    "name": "ipython",
    "version": 3
   },
   "file_extension": ".py",
   "mimetype": "text/x-python",
   "name": "python",
   "nbconvert_exporter": "python",
   "pygments_lexer": "ipython3",
   "version": "3.10.11"
  }
 },
 "nbformat": 4,
 "nbformat_minor": 2
}
