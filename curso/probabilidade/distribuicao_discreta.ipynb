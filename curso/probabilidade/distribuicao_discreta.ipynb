{
 "cells": [
  {
   "cell_type": "markdown",
   "metadata": {},
   "source": [
    "# Distribuição Discreta"
   ]
  },
  {
   "cell_type": "code",
   "execution_count": 1,
   "metadata": {},
   "outputs": [],
   "source": [
    "import numpy as np\n",
    "import pandas as pd"
   ]
  },
  {
   "cell_type": "code",
   "execution_count": 2,
   "metadata": {},
   "outputs": [],
   "source": [
    "enem_sp = pd.read_csv('enem_2019_tratado.csv', sep=',', encoding='iso-8859-1')"
   ]
  },
  {
   "cell_type": "markdown",
   "metadata": {},
   "source": [
    "## Distribuição Binomial\n",
    "\n",
    "- Possibilidade de apenas dois resultados.\n",
    "- Tentativas idênticas e independentes."
   ]
  },
  {
   "cell_type": "code",
   "execution_count": 3,
   "metadata": {},
   "outputs": [],
   "source": [
    "from scipy.stats import binom"
   ]
  },
  {
   "cell_type": "code",
   "execution_count": 5,
   "metadata": {},
   "outputs": [],
   "source": [
    "# probabilidade de retirar uma MULHER no enem_sp\n",
    "mulher_enem = enem_sp.loc[enem_sp.SEXO == 'F']"
   ]
  },
  {
   "cell_type": "code",
   "execution_count": 6,
   "metadata": {},
   "outputs": [
    {
     "data": {
      "text/plain": [
       "0.5803136376365163"
      ]
     },
     "execution_count": 6,
     "metadata": {},
     "output_type": "execute_result"
    }
   ],
   "source": [
    "prob_mulher = len(mulher_enem) / len(enem_sp)\n",
    "prob_mulher"
   ]
  },
  {
   "cell_type": "markdown",
   "metadata": {},
   "source": [
    "### pmf x cdf\n",
    "- **binom.pmf** valor pontual\n",
    "\n",
    "- **binom.cdf** faixa de valores (acumulada)"
   ]
  },
  {
   "cell_type": "code",
   "execution_count": 7,
   "metadata": {},
   "outputs": [
    {
     "data": {
      "text/plain": [
       "0.13014261971434243"
      ]
     },
     "execution_count": 7,
     "metadata": {},
     "output_type": "execute_result"
    }
   ],
   "source": [
    "# probabilidade de retirar exatamente 4 mulheres de um total de 10 amostras\n",
    "## 10 amostras, qual a prob dentre essas 10, somando total, dê 4 mulheres\n",
    "\n",
    "binom.pmf(4, 10, prob_mulher)\n",
    "\n",
    "# parâmetros de binom.pmf\n",
    "## primeiro parâmetro: valor limite que se está pretendo calcular\n",
    "## segundo: número de tentativas\n",
    "## terceiro: probabilidade de um sucesso."
   ]
  },
  {
   "cell_type": "code",
   "execution_count": 8,
   "metadata": {},
   "outputs": [
    {
     "data": {
      "text/plain": [
       "0.9998304692157152"
      ]
     },
     "execution_count": 8,
     "metadata": {},
     "output_type": "execute_result"
    }
   ],
   "source": [
    "# probabilidade de retirar PELO MENOS UMA mulher no total de 10 amostras\n",
    "p0 = 1 - binom.pmf(0, 10, prob_mulher) # 1 - prob de não ocorrência\n",
    "p0"
   ]
  },
  {
   "cell_type": "code",
   "execution_count": 12,
   "metadata": {},
   "outputs": [
    {
     "data": {
      "text/plain": [
       "0.997486313318782"
      ]
     },
     "execution_count": 12,
     "metadata": {},
     "output_type": "execute_result"
    }
   ],
   "source": [
    "# probabilidade de retirar mais do que 1 mulher num total de 10 amostras\n",
    "p1 = 1 - (binom.pmf(0,10,prob_mulher)+binom.pmf(1,10,prob_mulher))\n",
    "p1\n"
   ]
  },
  {
   "cell_type": "code",
   "execution_count": 13,
   "metadata": {},
   "outputs": [
    {
     "data": {
      "text/plain": [
       "0.929117468512205"
      ]
     },
     "execution_count": 13,
     "metadata": {},
     "output_type": "execute_result"
    }
   ],
   "source": [
    "# probabilidade de retirar mais do que 3 mulheres num total de 10 amostras\n",
    "p2 = 1 - (binom.pmf(0,10,prob_mulher)+binom.pmf(1,10,prob_mulher)+binom.pmf(2,10,prob_mulher)+binom.pmf(3,10,prob_mulher))\n",
    "p2"
   ]
  },
  {
   "cell_type": "code",
   "execution_count": 16,
   "metadata": {},
   "outputs": [
    {
     "data": {
      "text/plain": [
       "0.9291174685122046"
      ]
     },
     "execution_count": 16,
     "metadata": {},
     "output_type": "execute_result"
    }
   ],
   "source": [
    "# mesma coisa que:\n",
    "p2 = binom.pmf(4,10,prob_mulher)+binom.pmf(5,10,prob_mulher)+binom.pmf(6,10,prob_mulher)+binom.pmf(7,10,prob_mulher)+binom.pmf(8,10,prob_mulher)+binom.pmf(9,10,prob_mulher)+binom.pmf(10,10,prob_mulher)\n",
    "p2"
   ]
  },
  {
   "cell_type": "code",
   "execution_count": 18,
   "metadata": {},
   "outputs": [],
   "source": [
    "# outra forma de pensar\n",
    "p2 = 1 - binom.cdf(3, 10, prob_mulher) # csf pega 0, 1, 2, 3.\n",
    "p2"
   ]
  },
  {
   "cell_type": "code",
   "execution_count": 19,
   "metadata": {},
   "outputs": [
    {
     "data": {
      "text/plain": [
       "0.03565630595957381"
      ]
     },
     "execution_count": 19,
     "metadata": {},
     "output_type": "execute_result"
    }
   ],
   "source": [
    "# prob de retirar mais do que 8 mulheres num total de 10 amostras\n",
    "p3 = binom.pmf(9,10,prob_mulher)+binom.pmf(10,10,prob_mulher)\n",
    "p3\n"
   ]
  },
  {
   "cell_type": "code",
   "execution_count": 20,
   "metadata": {},
   "outputs": [
    {
     "data": {
      "text/plain": [
       "0.03565630595957381"
      ]
     },
     "execution_count": 20,
     "metadata": {},
     "output_type": "execute_result"
    }
   ],
   "source": [
    "# outra forma\n",
    "p3 = binom.cdf(10, 10, prob_mulher) - binom.cdf(8, 10, prob_mulher)\n",
    "p3"
   ]
  },
  {
   "cell_type": "markdown",
   "metadata": {},
   "source": [
    "## Distribuição Geométrica"
   ]
  }
 ],
 "metadata": {
  "kernelspec": {
   "display_name": "Python 3",
   "language": "python",
   "name": "python3"
  },
  "language_info": {
   "codemirror_mode": {
    "name": "ipython",
    "version": 3
   },
   "file_extension": ".py",
   "mimetype": "text/x-python",
   "name": "python",
   "nbconvert_exporter": "python",
   "pygments_lexer": "ipython3",
   "version": "3.10.11"
  }
 },
 "nbformat": 4,
 "nbformat_minor": 2
}
