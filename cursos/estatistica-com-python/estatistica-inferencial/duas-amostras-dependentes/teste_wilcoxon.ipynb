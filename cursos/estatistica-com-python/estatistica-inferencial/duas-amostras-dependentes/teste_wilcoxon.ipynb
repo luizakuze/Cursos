{
 "cells": [
  {
   "cell_type": "markdown",
   "metadata": {},
   "source": [
    "# Teste Wilcoxon (duas amostras dependentes)\n",
    "- Teste não paramétrico\n",
    "- Medianas como referências"
   ]
  },
  {
   "cell_type": "code",
   "execution_count": null,
   "metadata": {},
   "outputs": [],
   "source": [
    "import numpy as np\n",
    "import pandas as pd"
   ]
  },
  {
   "cell_type": "code",
   "execution_count": null,
   "metadata": {},
   "outputs": [],
   "source": [
    "enem_sp = pd.read_csv('enem_2019_tratado.csv',\n",
    "                      sep=',', encoding='iso-8859-1')"
   ]
  },
  {
   "cell_type": "markdown",
   "metadata": {},
   "source": [
    "Objetivo:\n",
    "Analisar a diferença mediana da nota de redação com relação aos seus componentes.\n",
    "\n",
    "**Obs.:** amostras independentes = analisa diferença nas medianas. \n",
    "\n",
    "amostras dependentes = analisa a mediana das diferenças."
   ]
  },
  {
   "cell_type": "code",
   "execution_count": null,
   "metadata": {},
   "outputs": [],
   "source": [
    "Objetivo:\n",
    "Analisar a diferença mediana da nota de redação com relação aos seus componentes.\n",
    "\n",
    "**Obs.:** amostras independentes = analisa diferença nas medianas. \n",
    "\n",
    "amostras dependentes = analisa a mediana das diferenças."
   ]
  },
  {
   "cell_type": "code",
   "execution_count": null,
   "metadata": {},
   "outputs": [],
   "source": [
    "colegioy = enem_sp.loc[enem_sp.CO_ESCOLA == 35151506.0]"
   ]
  },
  {
   "cell_type": "code",
   "execution_count": null,
   "metadata": {},
   "outputs": [],
   "source": [
    "colegioy.shape"
   ]
  },
  {
   "cell_type": "code",
   "execution_count": null,
   "metadata": {},
   "outputs": [],
   "source": [
    "colegioy.head()"
   ]
  },
  {
   "cell_type": "markdown",
   "metadata": {},
   "source": [
    "1) Analisar a classificação das variáveis"
   ]
  },
  {
   "cell_type": "code",
   "execution_count": null,
   "metadata": {},
   "outputs": [],
   "source": [
    "colegioy.dtypes"
   ]
  },
  {
   "cell_type": "markdown",
   "metadata": {},
   "source": [
    "2) Analisar valores missing"
   ]
  },
  {
   "cell_type": "code",
   "execution_count": null,
   "metadata": {},
   "outputs": [],
   "source": [
    "colegioy.isnull().sum()"
   ]
  },
  {
   "cell_type": "markdown",
   "metadata": {},
   "source": [
    "3) Analisar outliers"
   ]
  },
  {
   "cell_type": "code",
   "execution_count": null,
   "metadata": {},
   "outputs": [],
   "source": [
    "import plotly.express as px"
   ]
  },
  {
   "cell_type": "code",
   "execution_count": null,
   "metadata": {},
   "outputs": [],
   "source": [
    "grafico = px.box(colegioy, y=\"NOTA_REDACAO\")\n",
    "grafico.show()"
   ]
  },
  {
   "cell_type": "markdown",
   "metadata": {},
   "source": [
    "4) Analisar Normalidade"
   ]
  },
  {
   "cell_type": "markdown",
   "metadata": {},
   "source": [
    "A diferença entre as variáveis é que deve ser normal.\n",
    "\n",
    "CRITÉRIOS:\n",
    "\n",
    "NÍVEL DE SIGNIFICÂNCIA DE 0,05 ou 5% (MAIS UTILIZADO)\n",
    "\n",
    "QUANDO p > 0,05 (distribuição normal)."
   ]
  },
  {
   "cell_type": "code",
   "execution_count": null,
   "metadata": {},
   "outputs": [],
   "source": [
    "import scipy.stats as stats"
   ]
  },
  {
   "cell_type": "code",
   "execution_count": null,
   "metadata": {},
   "outputs": [],
   "source": [
    "diferenca1 = colegioy.NOTA_REDACAO - colegioy.COMP1"
   ]
  },
  {
   "cell_type": "code",
   "execution_count": null,
   "metadata": {},
   "outputs": [],
   "source": [
    "diferenca2 = colegioy.NOTA_REDACAO - colegioy.COMP2"
   ]
  },
  {
   "cell_type": "code",
   "execution_count": null,
   "metadata": {},
   "outputs": [],
   "source": [
    "diferenca3 = colegioy.NOTA_REDACAO - colegioy.COMP3"
   ]
  },
  {
   "cell_type": "code",
   "execution_count": null,
   "metadata": {},
   "outputs": [],
   "source": [
    "diferenca4 = colegioy.NOTA_REDACAO - colegioy.COMP4"
   ]
  },
  {
   "cell_type": "code",
   "execution_count": null,
   "metadata": {},
   "outputs": [],
   "source": [
    "diferenca5 = colegioy.NOTA_REDACAO - colegioy.COMP5"
   ]
  },
  {
   "cell_type": "code",
   "execution_count": null,
   "metadata": {},
   "outputs": [],
   "source": [
    "# Teste Shapiro-Wilk\n",
    "stats.shapiro(diferenca5) # diferenças não são normais (alterando valores aqui de diferenças para análise)"
   ]
  },
  {
   "cell_type": "markdown",
   "metadata": {},
   "source": [
    "**TESTE WILCOXON**\n",
    "\n",
    "Comparação das Medianas das diferenças que não passaram no teste de normalidade."
   ]
  },
  {
   "cell_type": "markdown",
   "metadata": {},
   "source": [
    "Ho = NÃO HÁ DIFERENÇA ENTRE AS DIFERENÇAS DAS MEDIANAS: p > 0.05\n",
    "\n",
    "Ha = HÁ DIFERENÇA ENTRE AS DIFERENÇAS DAS MEDIANAS: p <= 0.05"
   ]
  },
  {
   "cell_type": "code",
   "execution_count": null,
   "metadata": {},
   "outputs": [],
   "source": [
    "stat, p = stats.wilcoxon(diferenca1,diferenca3)\n",
    "print('Estatística de teste: {}'.format(stat.round(2)))\n",
    "print('p-valor: {}'.format(p.round(10)))"
   ]
  },
  {
   "cell_type": "code",
   "execution_count": null,
   "metadata": {},
   "outputs": [],
   "source": [
    "diferenca1.median()"
   ]
  },
  {
   "cell_type": "code",
   "execution_count": null,
   "metadata": {},
   "outputs": [],
   "source": [
    "diferenca3.median()"
   ]
  },
  {
   "cell_type": "code",
   "execution_count": null,
   "metadata": {},
   "outputs": [],
   "source": [
    "stat, p = stats.wilcoxon(colegioy.COMP1,colegioy.COMP3)\n",
    "print('Estatística de teste: {}'.format(stat.round(2)))\n",
    "print('p-valor: {}'.format(p.round(10)))"
   ]
  },
  {
   "cell_type": "code",
   "execution_count": null,
   "metadata": {},
   "outputs": [],
   "source": [
    "stat, p = stats.wilcoxon(diferenca1, diferenca4)\n",
    "print('Estatística de teste: {}'.format(stat.round(2)))\n",
    "print('p-valor: {}'.format(p.round(10)))"
   ]
  },
  {
   "cell_type": "code",
   "execution_count": null,
   "metadata": {},
   "outputs": [],
   "source": [
    "diferenca4.median()"
   ]
  },
  {
   "cell_type": "code",
   "execution_count": null,
   "metadata": {},
   "outputs": [],
   "source": [
    "stat, p = stats.wilcoxon(diferenca1, diferenca5)\n",
    "print('Estatística de teste: {}'.format(stat.round(2)))\n",
    "print('p-valor: {}'.format(p.round(10)))"
   ]
  },
  {
   "cell_type": "code",
   "execution_count": null,
   "metadata": {},
   "outputs": [],
   "source": [
    "diferenca5.median()"
   ]
  },
  {
   "cell_type": "code",
   "execution_count": null,
   "metadata": {},
   "outputs": [],
   "source": [
    "stat, p = stats.wilcoxon(diferenca3, diferenca4)\n",
    "print('Estatística de teste: {}'.format(stat.round(2)))\n",
    "print('p-valor: {}'.format(p.round(10)))"
   ]
  },
  {
   "cell_type": "code",
   "execution_count": null,
   "metadata": {},
   "outputs": [],
   "source": [
    "stat, p = stats.wilcoxon(diferenca3, diferenca5)\n",
    "print('Estatística de teste: {}'.format(stat.round(2)))\n",
    "print('p-valor: {}'.format(p.round(10)))"
   ]
  },
  {
   "cell_type": "code",
   "execution_count": null,
   "metadata": {},
   "outputs": [],
   "source": [
    "stat, p = stats.wilcoxon(diferenca4, diferenca5)\n",
    "print('Estatística de teste: {}'.format(stat.round(2)))\n",
    "print('p-valor: {}'.format(p.round(10)))"
   ]
  },
  {
   "cell_type": "markdown",
   "metadata": {},
   "source": [
    "Conclusão: Estatisticamente, com intervalo de confiança de 95%, não há evidências para afirmar que existe diferença na diferença das medianas analisadas. "
   ]
  }
 ],
 "metadata": {
  "language_info": {
   "name": "python"
  }
 },
 "nbformat": 4,
 "nbformat_minor": 2
}
