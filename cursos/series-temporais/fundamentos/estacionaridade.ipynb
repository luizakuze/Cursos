{
 "cells": [
  {
   "cell_type": "markdown",
   "metadata": {},
   "source": [
    "# Teste de Estacionaridade"
   ]
  },
  {
   "cell_type": "code",
   "execution_count": 9,
   "metadata": {},
   "outputs": [],
   "source": [
    "import numpy as np\n",
    "import pandas as pd\n",
    "import matplotlib.pyplot as plt"
   ]
  },
  {
   "cell_type": "code",
   "execution_count": 10,
   "metadata": {},
   "outputs": [],
   "source": [
    "from matplotlib.pylab import rcParams\n",
    "rcParams['figure.figsize'] = 15, 6"
   ]
  },
  {
   "cell_type": "markdown",
   "metadata": {},
   "source": [
    "## Criação da Série"
   ]
  },
  {
   "cell_type": "code",
   "execution_count": 11,
   "metadata": {},
   "outputs": [
    {
     "data": {
      "text/plain": [
       "array([ 1.3315865 ,  0.71527897, -1.54540029, -0.00838385,  0.62133597,\n",
       "       -0.72008556,  0.26551159,  0.10854853,  0.00429143, -0.17460021,\n",
       "        0.43302619,  1.20303737, -0.96506567,  1.02827408,  0.22863013,\n",
       "        0.44513761, -1.13660221,  0.13513688,  1.484537  , -1.07980489,\n",
       "       -1.97772828, -1.7433723 ,  0.26607016,  2.38496733,  1.12369125,\n",
       "        1.67262221,  0.09914922,  1.39799638, -0.27124799,  0.61320418,\n",
       "       -0.26731719, -0.54930901,  0.1327083 , -0.47614201,  1.30847308,\n",
       "        0.19501328,  0.40020999, -0.33763234,  1.25647226, -0.7319695 ,\n",
       "        0.66023155])"
      ]
     },
     "execution_count": 11,
     "metadata": {},
     "output_type": "execute_result"
    }
   ],
   "source": [
    "# criando a semente aleatória e os valores\n",
    "np.random.seed(10)\n",
    "dados1 = np.random.normal(0,1,41)\n",
    "dados1"
   ]
  },
  {
   "cell_type": "code",
   "execution_count": 12,
   "metadata": {},
   "outputs": [
    {
     "data": {
      "text/html": [
       "<div>\n",
       "<style scoped>\n",
       "    .dataframe tbody tr th:only-of-type {\n",
       "        vertical-align: middle;\n",
       "    }\n",
       "\n",
       "    .dataframe tbody tr th {\n",
       "        vertical-align: top;\n",
       "    }\n",
       "\n",
       "    .dataframe thead th {\n",
       "        text-align: right;\n",
       "    }\n",
       "</style>\n",
       "<table border=\"1\" class=\"dataframe\">\n",
       "  <thead>\n",
       "    <tr style=\"text-align: right;\">\n",
       "      <th></th>\n",
       "      <th>0</th>\n",
       "    </tr>\n",
       "  </thead>\n",
       "  <tbody>\n",
       "    <tr>\n",
       "      <th>0</th>\n",
       "      <td>1.331587</td>\n",
       "    </tr>\n",
       "    <tr>\n",
       "      <th>1</th>\n",
       "      <td>0.715279</td>\n",
       "    </tr>\n",
       "    <tr>\n",
       "      <th>2</th>\n",
       "      <td>-1.545400</td>\n",
       "    </tr>\n",
       "    <tr>\n",
       "      <th>3</th>\n",
       "      <td>-0.008384</td>\n",
       "    </tr>\n",
       "    <tr>\n",
       "      <th>4</th>\n",
       "      <td>0.621336</td>\n",
       "    </tr>\n",
       "  </tbody>\n",
       "</table>\n",
       "</div>"
      ],
      "text/plain": [
       "          0\n",
       "0  1.331587\n",
       "1  0.715279\n",
       "2 -1.545400\n",
       "3 -0.008384\n",
       "4  0.621336"
      ]
     },
     "execution_count": 12,
     "metadata": {},
     "output_type": "execute_result"
    }
   ],
   "source": [
    "# transformando em dataframe\n",
    "dados1 = pd.DataFrame(dados1)\n",
    "dados1.head()"
   ]
  },
  {
   "cell_type": "code",
   "execution_count": 13,
   "metadata": {},
   "outputs": [
    {
     "data": {
      "text/html": [
       "<div>\n",
       "<style scoped>\n",
       "    .dataframe tbody tr th:only-of-type {\n",
       "        vertical-align: middle;\n",
       "    }\n",
       "\n",
       "    .dataframe tbody tr th {\n",
       "        vertical-align: top;\n",
       "    }\n",
       "\n",
       "    .dataframe thead th {\n",
       "        text-align: right;\n",
       "    }\n",
       "</style>\n",
       "<table border=\"1\" class=\"dataframe\">\n",
       "  <thead>\n",
       "    <tr style=\"text-align: right;\">\n",
       "      <th></th>\n",
       "      <th>valores</th>\n",
       "    </tr>\n",
       "  </thead>\n",
       "  <tbody>\n",
       "    <tr>\n",
       "      <th>0</th>\n",
       "      <td>1.331587</td>\n",
       "    </tr>\n",
       "    <tr>\n",
       "      <th>1</th>\n",
       "      <td>0.715279</td>\n",
       "    </tr>\n",
       "    <tr>\n",
       "      <th>2</th>\n",
       "      <td>-1.545400</td>\n",
       "    </tr>\n",
       "    <tr>\n",
       "      <th>3</th>\n",
       "      <td>-0.008384</td>\n",
       "    </tr>\n",
       "    <tr>\n",
       "      <th>4</th>\n",
       "      <td>0.621336</td>\n",
       "    </tr>\n",
       "  </tbody>\n",
       "</table>\n",
       "</div>"
      ],
      "text/plain": [
       "    valores\n",
       "0  1.331587\n",
       "1  0.715279\n",
       "2 -1.545400\n",
       "3 -0.008384\n",
       "4  0.621336"
      ]
     },
     "execution_count": 13,
     "metadata": {},
     "output_type": "execute_result"
    }
   ],
   "source": [
    "# renomeando a coluna do dataframe\n",
    "dados1.columns = ['valores']\n",
    "dados1.head()"
   ]
  },
  {
   "cell_type": "code",
   "execution_count": 14,
   "metadata": {},
   "outputs": [
    {
     "data": {
      "text/plain": [
       "(41, 1)"
      ]
     },
     "execution_count": 14,
     "metadata": {},
     "output_type": "execute_result"
    }
   ],
   "source": [
    "# visualizando número de colunas e linhas\n",
    "dados1.shape"
   ]
  },
  {
   "cell_type": "code",
   "execution_count": 15,
   "metadata": {},
   "outputs": [
    {
     "data": {
      "text/plain": [
       "DatetimeIndex(['1980-12-31', '1981-12-31', '1982-12-31', '1983-12-31',\n",
       "               '1984-12-31', '1985-12-31', '1986-12-31', '1987-12-31',\n",
       "               '1988-12-31', '1989-12-31', '1990-12-31', '1991-12-31',\n",
       "               '1992-12-31', '1993-12-31', '1994-12-31', '1995-12-31',\n",
       "               '1996-12-31', '1997-12-31', '1998-12-31', '1999-12-31',\n",
       "               '2000-12-31', '2001-12-31', '2002-12-31', '2003-12-31',\n",
       "               '2004-12-31', '2005-12-31', '2006-12-31', '2007-12-31',\n",
       "               '2008-12-31', '2009-12-31', '2010-12-31', '2011-12-31',\n",
       "               '2012-12-31', '2013-12-31', '2014-12-31', '2015-12-31',\n",
       "               '2016-12-31', '2017-12-31', '2018-12-31', '2019-12-31',\n",
       "               '2020-12-31'],\n",
       "              dtype='datetime64[ns]', freq='A-DEC')"
      ]
     },
     "execution_count": 15,
     "metadata": {},
     "output_type": "execute_result"
    }
   ],
   "source": [
    "# criando os índices p ano\n",
    "indice = pd.date_range('1980', periods = len(dados1), freq='Y') # por ano\n",
    "indice"
   ]
  },
  {
   "cell_type": "code",
   "execution_count": 16,
   "metadata": {},
   "outputs": [
    {
     "data": {
      "text/plain": [
       "1980-12-31    1.331587\n",
       "1981-12-31    0.715279\n",
       "1982-12-31   -1.545400\n",
       "1983-12-31   -0.008384\n",
       "1984-12-31    0.621336\n",
       "1985-12-31   -0.720086\n",
       "1986-12-31    0.265512\n",
       "1987-12-31    0.108549\n",
       "1988-12-31    0.004291\n",
       "1989-12-31   -0.174600\n",
       "1990-12-31    0.433026\n",
       "1991-12-31    1.203037\n",
       "1992-12-31   -0.965066\n",
       "1993-12-31    1.028274\n",
       "1994-12-31    0.228630\n",
       "1995-12-31    0.445138\n",
       "1996-12-31   -1.136602\n",
       "1997-12-31    0.135137\n",
       "1998-12-31    1.484537\n",
       "1999-12-31   -1.079805\n",
       "2000-12-31   -1.977728\n",
       "2001-12-31   -1.743372\n",
       "2002-12-31    0.266070\n",
       "2003-12-31    2.384967\n",
       "2004-12-31    1.123691\n",
       "2005-12-31    1.672622\n",
       "2006-12-31    0.099149\n",
       "2007-12-31    1.397996\n",
       "2008-12-31   -0.271248\n",
       "2009-12-31    0.613204\n",
       "2010-12-31   -0.267317\n",
       "2011-12-31   -0.549309\n",
       "2012-12-31    0.132708\n",
       "2013-12-31   -0.476142\n",
       "2014-12-31    1.308473\n",
       "2015-12-31    0.195013\n",
       "2016-12-31    0.400210\n",
       "2017-12-31   -0.337632\n",
       "2018-12-31    1.256472\n",
       "2019-12-31   -0.731970\n",
       "2020-12-31    0.660232\n",
       "Freq: A-DEC, dtype: float64"
      ]
     },
     "execution_count": 16,
     "metadata": {},
     "output_type": "execute_result"
    }
   ],
   "source": [
    "# criando a séria\n",
    "serie1 = pd.Series(dados1['valores'].values, index = indice)\n",
    "serie1"
   ]
  },
  {
   "cell_type": "code",
   "execution_count": 17,
   "metadata": {},
   "outputs": [
    {
     "data": {
      "image/png": "[encoded data removed]",
      "text/plain": [
       "<Figure size 1500x600 with 1 Axes>"
      ]
     },
     "metadata": {},
     "output_type": "display_data"
    }
   ],
   "source": [
    "serie1.plot()\n",
    "plt.show()"
   ]
  },
  {
   "cell_type": "markdown",
   "metadata": {},
   "source": [
    "## Teste de Estacinoaridade\n",
    "\n",
    "- Se houver a estacionaridade, o modelo dá previsões mais precisas"
   ]
  },
  {
   "cell_type": "code",
   "execution_count": 18,
   "metadata": {},
   "outputs": [],
   "source": [
    "import statsmodels.tsa.stattools"
   ]
  },
  {
   "cell_type": "markdown",
   "metadata": {},
   "source": [
    "### Teste KPSS (Kwiatkowski-Phillips-Schmidt-Shin)\n",
    "\n",
    "Ha = não é estacionário: estatística do teste > valor crítico\n",
    "\n",
    "Ho = é estacionário:  estatística do teste < valor críticoa"
   ]
  },
  {
   "cell_type": "code",
   "execution_count": 19,
   "metadata": {},
   "outputs": [
    {
     "name": "stderr",
     "output_type": "stream",
     "text": [
      "C:\\Users\\Luiza\\AppData\\Local\\Temp\\ipykernel_12848\\419759984.py:1: InterpolationWarning: The test statistic is outside of the range of p-values available in the\n",
      "look-up table. The actual p-value is greater than the p-value returned.\n",
      "\n",
      "  statsmodels.tsa.stattools.kpss(serie1)\n"
     ]
    },
    {
     "data": {
      "text/plain": [
       "(0.0685962789581985,\n",
       " 0.1,\n",
       " 0,\n",
       " {'10%': 0.347, '5%': 0.463, '2.5%': 0.574, '1%': 0.739})"
      ]
     },
     "execution_count": 19,
     "metadata": {},
     "output_type": "execute_result"
    }
   ],
   "source": [
    "statsmodels.tsa.stattools.kpss(serie1)"
   ]
  },
  {
   "cell_type": "code",
   "execution_count": 20,
   "metadata": {},
   "outputs": [
    {
     "name": "stdout",
     "output_type": "stream",
     "text": [
      "Estatítica do teste: 0.0686\n",
      "p_valor: 0.1000\n",
      "número de lags: 0\n",
      "Valores Críticos:\n",
      "10%: 0.3470\n",
      "5%: 0.4630\n",
      "2.5%: 0.5740\n",
      "1%: 0.7390\n"
     ]
    },
    {
     "name": "stderr",
     "output_type": "stream",
     "text": [
      "C:\\Users\\Luiza\\AppData\\Local\\Temp\\ipykernel_12848\\3108268961.py:1: InterpolationWarning: The test statistic is outside of the range of p-values available in the\n",
      "look-up table. The actual p-value is greater than the p-value returned.\n",
      "\n",
      "  kpss = statsmodels.tsa.stattools.kpss(serie1)\n"
     ]
    }
   ],
   "source": [
    "kpss = statsmodels.tsa.stattools.kpss(serie1)\n",
    "print('Estatítica do teste: {:.4f}'.format(kpss[0]))\n",
    "print('p_valor: {:.4f}'.format(kpss[1]))\n",
    "print('número de lags: {}'.format(kpss[2]))\n",
    "print('Valores Críticos:')\n",
    "for chave, valor in kpss[3].items():\n",
    "   print('{}: {:.4f}'.format(chave, valor))"
   ]
  },
  {
   "cell_type": "code",
   "execution_count": 21,
   "metadata": {},
   "outputs": [
    {
     "name": "stdout",
     "output_type": "stream",
     "text": [
      "Estatística do teste: -5.8642\n",
      "p_valor: 0.00000034\n",
      "Valores Críticos:\n",
      "1%: -3.6056\n",
      "5%: -2.9371\n",
      "10%: -2.6070\n"
     ]
    }
   ],
   "source": [
    "df = statsmodels.tsa.stattools.adfuller(serie1)\n",
    "print('Estatística do teste: {:.4f}'.format(df[0]))\n",
    "print('p_valor: {:.8f}'.format(df[1]))\n",
    "print('Valores Críticos:')\n",
    "for chave, valor in df[4].items():\n",
    "   print('{}: {:.4f}'.format(chave, valor))"
   ]
  },
  {
   "cell_type": "markdown",
   "metadata": {},
   "source": [
    "### Teste df (Dickey Fuller)\n",
    "\n",
    "Ha = não é estacionário: estatística do teste >= valor crítico\n",
    "\n",
    "Ho = é estacionário:  estatística do teste < valor crítico"
   ]
  },
  {
   "cell_type": "code",
   "execution_count": 22,
   "metadata": {},
   "outputs": [
    {
     "name": "stdout",
     "output_type": "stream",
     "text": [
      "Estatística do teste: -5.8642\n",
      "p_valor: 0.00000034\n",
      "Valores Críticos:\n",
      "1%: -3.6056\n",
      "5%: -2.9371\n",
      "10%: -2.6070\n"
     ]
    }
   ],
   "source": [
    "df = statsmodels.tsa.stattools.adfuller(serie1)\n",
    "print('Estatística do teste: {:.4f}'.format(df[0]))\n",
    "print('p_valor: {:.8f}'.format(df[1]))\n",
    "print('Valores Críticos:')\n",
    "for chave, valor in df[4].items():\n",
    "   print('{}: {:.4f}'.format(chave, valor))"
   ]
  },
  {
   "cell_type": "markdown",
   "metadata": {},
   "source": [
    "## **Dataset importado**\n",
    "\n",
    "**AirPassengers: dados clássicos da companhia aérea Box & Jenkins. Totais mensais de passageiros de companhias aéreas internacionais, 1949 a 1960.**\n"
   ]
  },
  {
   "cell_type": "code",
   "execution_count": 23,
   "metadata": {},
   "outputs": [],
   "source": [
    "serie2 = pd.read_csv('AirPassengers.csv')"
   ]
  },
  {
   "cell_type": "code",
   "execution_count": 24,
   "metadata": {},
   "outputs": [
    {
     "data": {
      "text/plain": [
       "Month\n",
       "1949-01    112\n",
       "1949-02    118\n",
       "1949-03    132\n",
       "1949-04    129\n",
       "1949-05    121\n",
       "          ... \n",
       "1960-08    606\n",
       "1960-09    508\n",
       "1960-10    461\n",
       "1960-11    390\n",
       "1960-12    432\n",
       "Length: 144, dtype: int64"
      ]
     },
     "execution_count": 24,
     "metadata": {},
     "output_type": "execute_result"
    }
   ],
   "source": [
    "serie2 = pd.Series(serie2['#Passengers'].values, index = serie2['Month'])\n",
    "serie2"
   ]
  },
  {
   "cell_type": "code",
   "execution_count": null,
   "metadata": {},
   "outputs": [],
   "source": [
    "serie2.plot()\n",
    "plt.show()"
   ]
  },
  {
   "cell_type": "markdown",
   "metadata": {},
   "source": [
    "Teste KPSS (Kwiatkowski-Phillips-Schmidt-Shin)\n",
    "\n",
    "Ha = não é estacionário: estatística do teste > valor crítico\n",
    "\n",
    "Ho = é estacionário:  estatística do teste < valor crítico"
   ]
  },
  {
   "cell_type": "code",
   "execution_count": null,
   "metadata": {},
   "outputs": [],
   "source": [
    "kpss2 = statsmodels.tsa.stattools.kpss(serie2, regression='ct')\n",
    "print('Estatítica do teste: {:.4f}'.format(kpss2[0]))\n",
    "print('p_valor: {:.4f}'.format(kpss2[1]))\n",
    "print('Valores Críticos:')\n",
    "for chave, valor in kpss2[3].items():\n",
    "   print('{}: {:.4f}'.format(chave, valor))"
   ]
  },
  {
   "cell_type": "markdown",
   "metadata": {},
   "source": [
    "Teste df (Dickey Fuller)\n",
    "\n",
    "Ha = não é estacionário: estatística do teste >= valor crítico\n",
    "\n",
    "Ho = é estacionário:  estatística do teste < valor crítico"
   ]
  },
  {
   "cell_type": "code",
   "execution_count": null,
   "metadata": {},
   "outputs": [],
   "source": [
    "df2 = statsmodels.tsa.stattools.adfuller(serie2)\n",
    "print('Estatítica do teste: {:.4f}'.format(df2[0]))\n",
    "print('p_valor: {:.8f}'.format(df2[1]))\n",
    "print('Valores Críticos:')\n",
    "for chave, valor in df2[4].items():\n",
    "   print('{}: {:.4f}'.format(chave, valor))"
   ]
  }
 ],
 "metadata": {
  "kernelspec": {
   "display_name": "Python 3",
   "language": "python",
   "name": "python3"
  },
  "language_info": {
   "codemirror_mode": {
    "name": "ipython",
    "version": 3
   },
   "file_extension": ".py",
   "mimetype": "text/x-python",
   "name": "python",
   "nbconvert_exporter": "python",
   "pygments_lexer": "ipython3",
   "version": "3.10.11"
  }
 },
 "nbformat": 4,
 "nbformat_minor": 2
}
